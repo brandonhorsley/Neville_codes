{
 "cells": [
  {
   "cell_type": "markdown",
   "metadata": {},
   "source": [
    "This code file is for converting the math latex code created by Calculator.ipynb into sympy by using sympy2latex vscode extension. "
   ]
  },
  {
   "cell_type": "code",
   "execution_count": 81,
   "metadata": {},
   "outputs": [],
   "source": [
    "#Import modules\n",
    "import latex2sympy2\n",
    "import flask"
   ]
  },
  {
   "cell_type": "code",
   "execution_count": 82,
   "metadata": {},
   "outputs": [],
   "source": [
    "#Convert by having extension,highlighting and pressing ctrl+shift+alt+p\n",
    "#latex2sympy(r'\\left(e^{i \\phi_{0}} \\cos{\\left(\\frac{\\theta_{0}}{2} \\right)} \\cos{\\left(\\frac{\\theta_{1}}{2} \\right)} - \\sin{\\left(\\frac{\\theta_{0}}{2} \\right)} \\sin{\\left(\\frac{\\theta_{1}}{2} \\right)}\\right) e^{i \\phi_{1}}')\n",
    "\n",
    "#Result:\n",
    "#(exp(i*phi_0)*cos(theta_0/2)*cos(theta_1/2) - sin(theta_0/2)*sin(theta_1/2))*exp(i*phi_1)"
   ]
  },
  {
   "cell_type": "code",
   "execution_count": 83,
   "metadata": {},
   "outputs": [
    {
     "data": {
      "image/png": "[encoded data removed]",
      "text/latex": [
       "$\\displaystyle \\left(e^{i \\phi_{0}} \\cos{\\left(\\frac{\\theta_{0}}{2} \\right)} \\cos{\\left(\\frac{\\theta_{1}}{2} \\right)} - \\sin{\\left(\\frac{\\theta_{0}}{2} \\right)} \\sin{\\left(\\frac{\\theta_{1}}{2} \\right)}\\right) e^{i \\phi_{1}}$"
      ],
      "text/plain": [
       "⎛ ⅈ⋅φ₀    ⎛θ₀⎞    ⎛θ₁⎞      ⎛θ₀⎞    ⎛θ₁⎞⎞  ⅈ⋅φ₁\n",
       "⎜ℯ    ⋅cos⎜──⎟⋅cos⎜──⎟ - sin⎜──⎟⋅sin⎜──⎟⎟⋅ℯ    \n",
       "⎝         ⎝2 ⎠    ⎝2 ⎠      ⎝2 ⎠    ⎝2 ⎠⎠      "
      ]
     },
     "execution_count": 83,
     "metadata": {},
     "output_type": "execute_result"
    }
   ],
   "source": [
    "#Copy output into a sympy expression explicitly\n",
    "from sympy import *\n",
    "\n",
    "#symbols definition, could maybe do this like lambda expression in Calculator code?\n",
    "theta_0,theta_1,phi_0,phi_1 = symbols('theta_0 theta_1 phi_0 phi_1',real=True)\n",
    "init_printing()\n",
    "#Note you need to replace i with I since that is what sympy uses\n",
    "(exp(I*phi_0)*cos(theta_0/2)*cos(theta_1/2) - sin(theta_0/2)*sin(theta_1/2))*exp(I*phi_1)\n"
   ]
  },
  {
   "cell_type": "code",
   "execution_count": 84,
   "metadata": {},
   "outputs": [
    {
     "data": {
      "image/png": "[encoded data removed]",
      "text/latex": [
       "$\\displaystyle - \\frac{\\sin{\\left(\\theta_{0} \\right)} \\sin{\\left(\\theta_{1} \\right)} \\cos{\\left(\\phi_{0} \\right)}}{2} + \\frac{\\cos{\\left(\\theta_{0} \\right)} \\cos{\\left(\\theta_{1} \\right)}}{2} + \\frac{1}{2}$"
      ],
      "text/plain": [
       "  sin(θ₀)⋅sin(θ₁)⋅cos(φ₀)   cos(θ₀)⋅cos(θ₁)   1\n",
       "- ─────────────────────── + ─────────────── + ─\n",
       "             2                     2          2"
      ]
     },
     "execution_count": 84,
     "metadata": {},
     "output_type": "execute_result"
    }
   ],
   "source": [
    "#Postprocessing to put into nice format for PyMC\n",
    "#either set real=true and simplify?\n",
    "#Or just substitute each e to the i theta with euler's formula (sympy.rewrite?)\n",
    "\n",
    "term=(exp(I*phi_0)*cos(theta_0/2)*cos(theta_1/2) - sin(theta_0/2)*sin(theta_1/2))*exp(I*phi_1)\n",
    "\n",
    "simplify(Abs(term.rewrite(sin))**2) #jackpot\n"
   ]
  }
 ],
 "metadata": {
  "kernelspec": {
   "display_name": "quandela",
   "language": "python",
   "name": "python3"
  },
  "language_info": {
   "codemirror_mode": {
    "name": "ipython",
    "version": 3
   },
   "file_extension": ".py",
   "mimetype": "text/x-python",
   "name": "python",
   "nbconvert_exporter": "python",
   "pygments_lexer": "ipython3",
   "version": "3.9.18"
  }
 },
 "nbformat": 4,
 "nbformat_minor": 2
}
